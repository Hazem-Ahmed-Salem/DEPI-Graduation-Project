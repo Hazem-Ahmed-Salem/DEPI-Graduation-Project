{
  "nbformat": 4,
  "nbformat_minor": 0,
  "metadata": {
    "colab": {
      "provenance": []
    },
    "kernelspec": {
      "name": "python3",
      "display_name": "Python 3"
    },
    "language_info": {
      "name": "python"
    }
  },
  "cells": [
    {
      "cell_type": "code",
      "source": [
        "from google.colab import drive\n",
        "drive.mount('/content/drive')"
      ],
      "metadata": {
        "id": "BOauD2h5U9x9"
      },
      "execution_count": null,
      "outputs": []
    },
    {
      "cell_type": "code",
      "source": [
        "import tensorflow as tf\n",
        "import os"
      ],
      "metadata": {
        "id": "bGX2h214UuUn"
      },
      "execution_count": 2,
      "outputs": []
    },
    {
      "cell_type": "code",
      "source": [
        "# Paths to train/test/val DIRs\n",
        "train_dir = \"/content/drive/MyDrive/DEPI_Graduation_Project/Dataset/train\"\n",
        "val_dir   = \"/content/drive/MyDrive/DEPI_Graduation_Project/Dataset/val\"\n",
        "test_dir  = \"/content/drive/MyDrive/DEPI_Graduation_Project/Dataset/test\""
      ],
      "metadata": {
        "id": "TETI2H8SUxL8"
      },
      "execution_count": 8,
      "outputs": []
    },
    {
      "cell_type": "code",
      "execution_count": 5,
      "metadata": {
        "colab": {
          "base_uri": "https://localhost:8080/"
        },
        "id": "E9iY-foVIvnS",
        "outputId": "ef4ac8f8-7c47-4008-d228-8dbe920a6c02"
      },
      "outputs": [
        {
          "output_type": "stream",
          "name": "stdout",
          "text": [
            "Found 14000 files belonging to 10 classes.\n",
            "Found 3000 files belonging to 10 classes.\n",
            "Found 3000 files belonging to 10 classes.\n"
          ]
        }
      ],
      "source": [
        "# Load datasets\n",
        "train_ds = tf.keras.utils.image_dataset_from_directory(\n",
        "    train_dir,\n",
        "    image_size=(224, 224),\n",
        "    batch_size=64,\n",
        "    seed=111,\n",
        "    shuffle=True\n",
        ")\n",
        "\n",
        "val_ds = tf.keras.utils.image_dataset_from_directory(\n",
        "    val_dir,\n",
        "    image_size=(224, 224),\n",
        "    batch_size=64,\n",
        "    seed=111,\n",
        "    shuffle=False\n",
        ")\n",
        "\n",
        "test_ds = tf.keras.utils.image_dataset_from_directory(\n",
        "    test_dir,\n",
        "    image_size=(224, 224),\n",
        "    batch_size=64,\n",
        "    seed=111,\n",
        "    shuffle=False\n",
        ")"
      ]
    },
    {
      "cell_type": "code",
      "source": [
        "# Shape of Images and labels in one batch\n",
        "for images, labels in train_ds.take(1):\n",
        "    print(\"Images batch shape:\", images.shape)\n",
        "    print(\"Labels batch shape:\", labels.shape)\n"
      ],
      "metadata": {
        "colab": {
          "base_uri": "https://localhost:8080/"
        },
        "id": "A2Z2Cj8CW1Zd",
        "outputId": "23acd566-2d63-44fb-f757-5d7fcfb6697a"
      },
      "execution_count": 7,
      "outputs": [
        {
          "output_type": "stream",
          "name": "stdout",
          "text": [
            "Images batch shape: (64, 224, 224, 3)\n",
            "Labels batch shape: (64,)\n"
          ]
        }
      ]
    },
    {
      "cell_type": "code",
      "source": [
        "# Class Names\n",
        "class_names = train_ds.class_names\n",
        "print(\"Classes:\", class_names)"
      ],
      "metadata": {
        "colab": {
          "base_uri": "https://localhost:8080/"
        },
        "id": "_t24DSEdU1ec",
        "outputId": "0cd45114-124e-4aa8-8094-3b25ce9da998"
      },
      "execution_count": 6,
      "outputs": [
        {
          "output_type": "stream",
          "name": "stdout",
          "text": [
            "Classes: ['01_palm', '02_l', '03_fist', '04_fist_moved', '05_thumb', '06_index', '07_ok', '08_palm_moved', '09_c', '10_down']\n"
          ]
        }
      ]
    },
    {
      "cell_type": "code",
      "source": [],
      "metadata": {
        "id": "xanuEjOZWpie"
      },
      "execution_count": null,
      "outputs": []
    }
  ]
}